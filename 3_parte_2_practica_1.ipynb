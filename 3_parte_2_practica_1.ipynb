{
 "cells": [
  {
   "cell_type": "markdown",
   "metadata": {},
   "source": [
    "# Método Simplex\n",
    "## Optimizacion\n",
    "\n",
    "Jose Reyes\n",
    "\n",
    "Yalidt Diaz\n",
    "\n",
    "Yedam Fortiz\n",
    "\n",
    "Fernanda Rubio "
   ]
  },
  {
   "cell_type": "code",
   "execution_count": 1,
   "metadata": {},
   "outputs": [],
   "source": [
    "from src.Simplex import *\n",
    "import numpy as np\n",
    "from scipy.optimize import linprog\n",
    "from pytest import approx\n",
    "from pulp import *\n",
    "import cvxpy as cp"
   ]
  },
  {
   "cell_type": "markdown",
   "metadata": {},
   "source": [
    "### Maximization case"
   ]
  },
  {
   "cell_type": "markdown",
   "metadata": {},
   "source": [
    "Definicion de variables"
   ]
  },
  {
   "cell_type": "code",
   "execution_count": 2,
   "metadata": {},
   "outputs": [],
   "source": [
    "c = [3, 5]\n",
    "b = [4, 12, 18]\n",
    "A = [[1,  0],\n",
    "    [0,  2],\n",
    "    [3, 2]]"
   ]
  },
  {
   "cell_type": "markdown",
   "metadata": {},
   "source": [
    "1. Metodo implementado"
   ]
  },
  {
   "cell_type": "code",
   "execution_count": 3,
   "metadata": {},
   "outputs": [
    {
     "name": "stdout",
     "output_type": "stream",
     "text": [
      "Optimization completed successfully !\n",
      "Solution for x vector:\n",
      "[2.0, 6.0]\n",
      "Optimal value:\n",
      "-36.0\n"
     ]
    },
    {
     "data": {
      "text/plain": [
       "[2.0, 6.0]"
      ]
     },
     "execution_count": 3,
     "metadata": {},
     "output_type": "execute_result"
    }
   ],
   "source": [
    "problema = Simplex(c,A,b,problem='Max')\n",
    "method_result, opt, status = problema.solve()\n",
    "method_result"
   ]
  },
  {
   "cell_type": "markdown",
   "metadata": {},
   "source": [
    "2. Scipy"
   ]
  },
  {
   "cell_type": "code",
   "execution_count": 4,
   "metadata": {},
   "outputs": [],
   "source": [
    "c_scipu=[-3, -5]\n",
    "opt = linprog(c=c_scipu, A_ub=A, b_ub=b,\n",
    "              method=\"simplex\")\n",
    "scipy_result = opt.x"
   ]
  },
  {
   "cell_type": "code",
   "execution_count": 5,
   "metadata": {},
   "outputs": [
    {
     "data": {
      "text/plain": [
       "array([2., 6.])"
      ]
     },
     "execution_count": 5,
     "metadata": {},
     "output_type": "execute_result"
    }
   ],
   "source": [
    "scipy_result"
   ]
  },
  {
   "cell_type": "markdown",
   "metadata": {},
   "source": [
    "3. Pulp"
   ]
  },
  {
   "cell_type": "code",
   "execution_count": 6,
   "metadata": {},
   "outputs": [],
   "source": [
    "x = LpVariable('x',0)\n",
    "y = LpVariable('y',0)"
   ]
  },
  {
   "cell_type": "code",
   "execution_count": 7,
   "metadata": {},
   "outputs": [],
   "source": [
    "prob = LpProblem('myProblem',LpMinimize)"
   ]
  },
  {
   "cell_type": "code",
   "execution_count": 8,
   "metadata": {},
   "outputs": [],
   "source": [
    "prob += 1*x + 0*y <= 4\n",
    "prob += 0*x + 2*y <= 12\n",
    "prob += 3*x + 2*y <= 18\n",
    "prob += -3*x -5*y"
   ]
  },
  {
   "cell_type": "code",
   "execution_count": 9,
   "metadata": {},
   "outputs": [],
   "source": [
    "status = prob.solve(PULP_CBC_CMD(msg=0))\n",
    "x=value(x)\n",
    "y=value(y)"
   ]
  },
  {
   "cell_type": "code",
   "execution_count": 10,
   "metadata": {},
   "outputs": [],
   "source": [
    "pulp_result = np.array([x,y])"
   ]
  },
  {
   "cell_type": "markdown",
   "metadata": {},
   "source": [
    "4. Cvxpy"
   ]
  },
  {
   "cell_type": "code",
   "execution_count": 11,
   "metadata": {},
   "outputs": [],
   "source": [
    "x = cp.Variable(boolean=False, integer= False)\n",
    "y = cp.Variable(boolean=False, integer= False)"
   ]
  },
  {
   "cell_type": "code",
   "execution_count": 12,
   "metadata": {},
   "outputs": [],
   "source": [
    "constraints = [0 <= cp.sum(x),\n",
    "               0 <= cp.sum(y),\n",
    "               cp.sum(x)<=4,\n",
    "               cp.sum(2*y)<=12,\n",
    "               cp.sum(3*x+2*y)<=18\n",
    "               ]"
   ]
  },
  {
   "cell_type": "code",
   "execution_count": 13,
   "metadata": {},
   "outputs": [],
   "source": [
    "model = cp.Maximize(cp.sum(3*x+5*y))"
   ]
  },
  {
   "cell_type": "code",
   "execution_count": 14,
   "metadata": {},
   "outputs": [],
   "source": [
    "prob = cp.Problem(model, constraints)"
   ]
  },
  {
   "cell_type": "code",
   "execution_count": 15,
   "metadata": {},
   "outputs": [],
   "source": [
    "result = prob.solve()\n",
    "\n",
    "x=x.value\n",
    "y=y.value"
   ]
  },
  {
   "cell_type": "code",
   "execution_count": 16,
   "metadata": {},
   "outputs": [],
   "source": [
    "cvxpy_result = np.array([x,y])"
   ]
  },
  {
   "cell_type": "markdown",
   "metadata": {},
   "source": [
    "#### Test paqueterias"
   ]
  },
  {
   "cell_type": "code",
   "execution_count": 17,
   "metadata": {},
   "outputs": [
    {
     "name": "stdout",
     "output_type": "stream",
     "text": [
      "Test con paqueteria scipy\n",
      "True\n"
     ]
    }
   ],
   "source": [
    "print('Test con paqueteria scipy')\n",
    "print(method_result== approx(scipy_result, abs=1e-8, rel=1e-8))"
   ]
  },
  {
   "cell_type": "code",
   "execution_count": 18,
   "metadata": {},
   "outputs": [
    {
     "name": "stdout",
     "output_type": "stream",
     "text": [
      "Test con paqueteria pulp\n",
      "True\n"
     ]
    }
   ],
   "source": [
    "print('Test con paqueteria pulp')\n",
    "print(method_result== approx(pulp_result, abs=1e-8, rel=1e-8))"
   ]
  },
  {
   "cell_type": "code",
   "execution_count": 19,
   "metadata": {},
   "outputs": [
    {
     "name": "stdout",
     "output_type": "stream",
     "text": [
      "Test con paqueteria cvxpy\n",
      "True\n"
     ]
    }
   ],
   "source": [
    "print('Test con paqueteria cvxpy')\n",
    "print(method_result== approx(cvxpy_result, abs=1e-6, rel=1e-6))"
   ]
  },
  {
   "cell_type": "markdown",
   "metadata": {},
   "source": [
    "### Minimization case"
   ]
  },
  {
   "cell_type": "markdown",
   "metadata": {},
   "source": [
    "Definicion de variables"
   ]
  },
  {
   "cell_type": "code",
   "execution_count": 20,
   "metadata": {},
   "outputs": [],
   "source": [
    "c = [1, 1, -4]\n",
    "b = [9, 2, 4]\n",
    "A = [[1,  1,  2],\n",
    "    [1,  1, -1],\n",
    "    [-1, 1,  1]]"
   ]
  },
  {
   "cell_type": "markdown",
   "metadata": {},
   "source": [
    "Metodo implementado"
   ]
  },
  {
   "cell_type": "code",
   "execution_count": 21,
   "metadata": {},
   "outputs": [
    {
     "name": "stdout",
     "output_type": "stream",
     "text": [
      "Optimization completed successfully !\n",
      "Solution for x vector:\n",
      "[0.3333333333333333, 0, 4.333333333333333]\n",
      "Optimal value:\n",
      "-17.0\n"
     ]
    },
    {
     "data": {
      "text/plain": [
       "[0.3333333333333333, 0, 4.333333333333333]"
      ]
     },
     "execution_count": 21,
     "metadata": {},
     "output_type": "execute_result"
    }
   ],
   "source": [
    "problema = Simplex(c,A,b,problem='Min')\n",
    "method_result, opt, status = problema.solve()\n",
    "method_result"
   ]
  },
  {
   "cell_type": "markdown",
   "metadata": {},
   "source": [
    "2. Scipy"
   ]
  },
  {
   "cell_type": "code",
   "execution_count": 22,
   "metadata": {},
   "outputs": [],
   "source": [
    "opt = linprog(c=c, A_ub=A, b_ub=b,\n",
    "              method=\"simplex\")\n",
    "scipy_result = opt.x"
   ]
  },
  {
   "cell_type": "markdown",
   "metadata": {},
   "source": [
    "3. Pulp"
   ]
  },
  {
   "cell_type": "code",
   "execution_count": 23,
   "metadata": {},
   "outputs": [],
   "source": [
    "x = LpVariable('x',0)\n",
    "y = LpVariable('y',0)\n",
    "z = LpVariable('z',0)"
   ]
  },
  {
   "cell_type": "code",
   "execution_count": 24,
   "metadata": {},
   "outputs": [],
   "source": [
    "prob = LpProblem('myProblem',LpMinimize)"
   ]
  },
  {
   "cell_type": "code",
   "execution_count": 25,
   "metadata": {},
   "outputs": [],
   "source": [
    "prob += 1*x + 1*y +2*z <= 9\n",
    "prob += 1*x + 1*y -1*z <= 2\n",
    "prob += -1*x + 1*y +1*z <= 4\n",
    "prob += 1*x +1*y -4*z"
   ]
  },
  {
   "cell_type": "code",
   "execution_count": 26,
   "metadata": {},
   "outputs": [],
   "source": [
    "status = prob.solve(PULP_CBC_CMD(msg=0))\n",
    "x=value(x)\n",
    "y=value(y)\n",
    "z=value(z)"
   ]
  },
  {
   "cell_type": "code",
   "execution_count": 27,
   "metadata": {},
   "outputs": [],
   "source": [
    "pulp_result = np.array([x,y,z])"
   ]
  },
  {
   "cell_type": "markdown",
   "metadata": {},
   "source": [
    "4. Cvxpy"
   ]
  },
  {
   "cell_type": "code",
   "execution_count": 28,
   "metadata": {},
   "outputs": [],
   "source": [
    "x = cp.Variable(boolean=False, integer= False)\n",
    "y = cp.Variable(boolean=False, integer= False)\n",
    "z = cp.Variable(boolean=False, integer= False)"
   ]
  },
  {
   "cell_type": "code",
   "execution_count": 29,
   "metadata": {},
   "outputs": [],
   "source": [
    "constraints = [0 <= cp.sum(x),\n",
    "               0 <= cp.sum(y),\n",
    "               0 <= cp.sum(z),\n",
    "               cp.sum(x+y+2*z)<=9,\n",
    "               cp.sum(x+y-z)<=2,\n",
    "               cp.sum(-x+y+z)<=4\n",
    "               ]"
   ]
  },
  {
   "cell_type": "code",
   "execution_count": 30,
   "metadata": {},
   "outputs": [],
   "source": [
    "model = cp.Minimize(cp.sum(1*x+1*y-4*z))"
   ]
  },
  {
   "cell_type": "code",
   "execution_count": 31,
   "metadata": {},
   "outputs": [],
   "source": [
    "prob = cp.Problem(model, constraints)"
   ]
  },
  {
   "cell_type": "code",
   "execution_count": 32,
   "metadata": {},
   "outputs": [],
   "source": [
    "result = prob.solve()\n",
    "\n",
    "x=x.value\n",
    "y=y.value\n",
    "z=z.value"
   ]
  },
  {
   "cell_type": "code",
   "execution_count": 33,
   "metadata": {},
   "outputs": [],
   "source": [
    "cvxpy_result = np.array([x,y,z])"
   ]
  },
  {
   "cell_type": "markdown",
   "metadata": {},
   "source": [
    "#### Test paqueterias"
   ]
  },
  {
   "cell_type": "code",
   "execution_count": 34,
   "metadata": {},
   "outputs": [
    {
     "name": "stdout",
     "output_type": "stream",
     "text": [
      "Test con paqueteria scipy\n",
      "True\n"
     ]
    }
   ],
   "source": [
    "print('Test con paqueteria scipy')\n",
    "print(method_result== approx(scipy_result, abs=1e-8, rel=1e-8))"
   ]
  },
  {
   "cell_type": "code",
   "execution_count": 35,
   "metadata": {},
   "outputs": [
    {
     "name": "stdout",
     "output_type": "stream",
     "text": [
      "Test con paqueteria pulp\n",
      "True\n"
     ]
    }
   ],
   "source": [
    "print('Test con paqueteria pulp')\n",
    "print(method_result== approx(pulp_result, abs=1e-8, rel=1e-8))"
   ]
  },
  {
   "cell_type": "code",
   "execution_count": 36,
   "metadata": {},
   "outputs": [
    {
     "name": "stdout",
     "output_type": "stream",
     "text": [
      "Test con paqueteria cvxpy\n",
      "True\n"
     ]
    }
   ],
   "source": [
    "print('Test con paqueteria cvxpy')\n",
    "print(method_result== approx(cvxpy_result, abs=1e-6, rel=1e-6))"
   ]
  }
 ],
 "metadata": {
  "kernelspec": {
   "display_name": "Python 3",
   "language": "python",
   "name": "python3"
  },
  "language_info": {
   "codemirror_mode": {
    "name": "ipython",
    "version": 3
   },
   "file_extension": ".py",
   "mimetype": "text/x-python",
   "name": "python",
   "nbconvert_exporter": "python",
   "pygments_lexer": "ipython3",
   "version": "3.8.5"
  }
 },
 "nbformat": 4,
 "nbformat_minor": 5
}
