{
 "cells": [
  {
   "cell_type": "markdown",
   "metadata": {},
   "source": [
    "## Método Simplex"
   ]
  },
  {
   "cell_type": "code",
   "execution_count": 1,
   "metadata": {},
   "outputs": [],
   "source": [
    "from Simplex import *\n",
    "import numpy as np"
   ]
  },
  {
   "cell_type": "code",
   "execution_count": 2,
   "metadata": {},
   "outputs": [
    {
     "data": {
      "text/plain": [
       "[2.0, 6.0]"
      ]
     },
     "execution_count": 2,
     "metadata": {},
     "output_type": "execute_result"
    }
   ],
   "source": [
    "#Maximization case\n",
    "\n",
    "c = np.array([3, 5])\n",
    "b = np.array([4, 12, 18])\n",
    "A = np.array([[1,  0],\n",
    "              [0,  2],\n",
    "              [3, 2]]) \n",
    "\n",
    "problema = Simplex(c,A,b,problem='Max')\n",
    "method_result = problema.solve()\n",
    "\n",
    "method_result"
   ]
  },
  {
   "cell_type": "code",
   "execution_count": 3,
   "metadata": {},
   "outputs": [
    {
     "data": {
      "text/plain": [
       "[0.3333333333333333, 0, 4.333333333333333]"
      ]
     },
     "execution_count": 3,
     "metadata": {},
     "output_type": "execute_result"
    }
   ],
   "source": [
    "#Minimization case\n",
    "\n",
    "c = np.array([1, 1, -4])\n",
    "b = np.array([9, 2, 4])\n",
    "A = np.array([[1,  1,  2],\n",
    "              [1,  1, -1],\n",
    "              [-1, 1,  1]]) \n",
    "\n",
    "problema = Simplex(c,A,b,problem='Min')\n",
    "method_result = problema.solve()\n",
    "\n",
    "method_result"
   ]
  }
 ],
 "metadata": {
  "kernelspec": {
   "display_name": "Python 3",
   "language": "python",
   "name": "python3"
  },
  "language_info": {
   "codemirror_mode": {
    "name": "ipython",
    "version": 3
   },
   "file_extension": ".py",
   "mimetype": "text/x-python",
   "name": "python",
   "nbconvert_exporter": "python",
   "pygments_lexer": "ipython3",
   "version": "3.8.3"
  }
 },
 "nbformat": 4,
 "nbformat_minor": 5
}
