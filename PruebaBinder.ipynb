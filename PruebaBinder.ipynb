{
 "cells": [
  {
   "cell_type": "markdown",
   "id": "capable-specialist",
   "metadata": {},
   "source": [
    "# Método Simplex\n",
    "## Optimizacion\n",
    "\n",
    "Jose Reyes\n",
    "\n",
    "Yalidt Diaz\n",
    "\n",
    "Yedam Fortiz\n",
    "\n",
    "Fernanda Rubio "
   ]
  },
  {
   "cell_type": "code",
   "execution_count": null,
   "id": "tamil-antibody",
   "metadata": {},
   "outputs": [],
   "source": [
    "from src.tests.Simplex import *\n",
    "import numpy as np"
   ]
  },
  {
   "cell_type": "markdown",
   "id": "faced-cherry",
   "metadata": {},
   "source": [
    "### Maximization case"
   ]
  },
  {
   "cell_type": "markdown",
   "id": "bright-vertex",
   "metadata": {},
   "source": [
    "Definicion de variables"
   ]
  },
  {
   "cell_type": "code",
   "execution_count": null,
   "id": "relative-regulation",
   "metadata": {},
   "outputs": [],
   "source": [
    "#Maximization case\n",
    "\n",
    "c = np.array([3, 5])\n",
    "b = np.array([4, 12, 18])\n",
    "A = np.array([[1,  0],\n",
    "              [0,  2],\n",
    "              [3, 2]]) "
   ]
  },
  {
   "cell_type": "markdown",
   "id": "canadian-supervisor",
   "metadata": {},
   "source": [
    "Metodo implementado"
   ]
  },
  {
   "cell_type": "code",
   "execution_count": null,
   "id": "deadly-fifteen",
   "metadata": {},
   "outputs": [],
   "source": [
    "problema = Simplex(c,A,b,problem='Max')\n",
    "method_result = problema.solve()\n",
    "method_result"
   ]
  },
  {
   "cell_type": "markdown",
   "id": "martial-reservation",
   "metadata": {},
   "source": [
    "### Minimization case"
   ]
  },
  {
   "cell_type": "markdown",
   "id": "continental-hunter",
   "metadata": {},
   "source": [
    "Definicion de variables"
   ]
  },
  {
   "cell_type": "code",
   "execution_count": null,
   "id": "frequent-columbia",
   "metadata": {},
   "outputs": [],
   "source": [
    "c = np.array([1, 1, -4])\n",
    "b = np.array([9, 2, 4])\n",
    "A = np.array([[1,  1,  2],\n",
    "              [1,  1, -1],\n",
    "              [-1, 1,  1]]) "
   ]
  },
  {
   "cell_type": "markdown",
   "id": "rental-sentence",
   "metadata": {},
   "source": [
    "Metodo implementado"
   ]
  },
  {
   "cell_type": "code",
   "execution_count": null,
   "id": "empirical-execution",
   "metadata": {},
   "outputs": [],
   "source": [
    "problema = Simplex(c,A,b,problem='Min')\n",
    "method_result = problema.solve()\n",
    "method_result"
   ]
  }
 ],
 "metadata": {
  "kernelspec": {
   "display_name": "Python 3",
   "language": "python",
   "name": "python3"
  },
  "language_info": {
   "codemirror_mode": {
    "name": "ipython",
    "version": 3
   },
   "file_extension": ".py",
   "mimetype": "text/x-python",
   "name": "python",
   "nbconvert_exporter": "python",
   "pygments_lexer": "ipython3",
   "version": "3.9.2"
  }
 },
 "nbformat": 4,
 "nbformat_minor": 5
}
